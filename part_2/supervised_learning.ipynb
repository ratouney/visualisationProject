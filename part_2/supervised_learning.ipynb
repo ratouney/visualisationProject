{
 "cells": [
  {
   "cell_type": "code",
   "execution_count": 2,
   "id": "43d20e98",
   "metadata": {},
   "outputs": [
    {
     "name": "stderr",
     "output_type": "stream",
     "text": [
      "2021-12-12 21:12:19.571182: W tensorflow/stream_executor/platform/default/dso_loader.cc:64] Could not load dynamic library 'libcudart.so.11.0'; dlerror: libcudart.so.11.0: cannot open shared object file: No such file or directory\n",
      "2021-12-12 21:12:19.571212: I tensorflow/stream_executor/cuda/cudart_stub.cc:29] Ignore above cudart dlerror if you do not have a GPU set up on your machine.\n"
     ]
    }
   ],
   "source": [
    "import pandas as pd\n",
    "import numpy as np\n",
    "from tensorflow import keras\n",
    "from tensorflow.keras import Sequential\n",
    "from tensorflow.keras.layers import Dense\n",
    "from sklearn.model_selection import train_test_split"
   ]
  },
  {
   "cell_type": "markdown",
   "source": [
    "## Load data"
   ],
   "metadata": {
    "collapsed": false,
    "pycharm": {
     "name": "#%% md\n"
    }
   }
  },
  {
   "cell_type": "code",
   "execution_count": 3,
   "id": "92701e2c",
   "metadata": {},
   "outputs": [
    {
     "data": {
      "text/plain": "      id  gender   age  hypertension  heart_disease ever_married  \\\n0   9046    Male  67.0             0              1          Yes   \n1  51676  Female  61.0             0              0          Yes   \n2  31112    Male  80.0             0              1          Yes   \n3  60182  Female  49.0             0              0          Yes   \n4   1665  Female  79.0             1              0          Yes   \n\n       work_type Residence_type  avg_glucose_level   bmi   smoking_status  \\\n0        Private          Urban             228.69  36.6  formerly smoked   \n1  Self-employed          Rural             202.21   NaN     never smoked   \n2        Private          Rural             105.92  32.5     never smoked   \n3        Private          Urban             171.23  34.4           smokes   \n4  Self-employed          Rural             174.12  24.0     never smoked   \n\n   stroke  \n0       1  \n1       1  \n2       1  \n3       1  \n4       1  ",
      "text/html": "<div>\n<style scoped>\n    .dataframe tbody tr th:only-of-type {\n        vertical-align: middle;\n    }\n\n    .dataframe tbody tr th {\n        vertical-align: top;\n    }\n\n    .dataframe thead th {\n        text-align: right;\n    }\n</style>\n<table border=\"1\" class=\"dataframe\">\n  <thead>\n    <tr style=\"text-align: right;\">\n      <th></th>\n      <th>id</th>\n      <th>gender</th>\n      <th>age</th>\n      <th>hypertension</th>\n      <th>heart_disease</th>\n      <th>ever_married</th>\n      <th>work_type</th>\n      <th>Residence_type</th>\n      <th>avg_glucose_level</th>\n      <th>bmi</th>\n      <th>smoking_status</th>\n      <th>stroke</th>\n    </tr>\n  </thead>\n  <tbody>\n    <tr>\n      <th>0</th>\n      <td>9046</td>\n      <td>Male</td>\n      <td>67.0</td>\n      <td>0</td>\n      <td>1</td>\n      <td>Yes</td>\n      <td>Private</td>\n      <td>Urban</td>\n      <td>228.69</td>\n      <td>36.6</td>\n      <td>formerly smoked</td>\n      <td>1</td>\n    </tr>\n    <tr>\n      <th>1</th>\n      <td>51676</td>\n      <td>Female</td>\n      <td>61.0</td>\n      <td>0</td>\n      <td>0</td>\n      <td>Yes</td>\n      <td>Self-employed</td>\n      <td>Rural</td>\n      <td>202.21</td>\n      <td>NaN</td>\n      <td>never smoked</td>\n      <td>1</td>\n    </tr>\n    <tr>\n      <th>2</th>\n      <td>31112</td>\n      <td>Male</td>\n      <td>80.0</td>\n      <td>0</td>\n      <td>1</td>\n      <td>Yes</td>\n      <td>Private</td>\n      <td>Rural</td>\n      <td>105.92</td>\n      <td>32.5</td>\n      <td>never smoked</td>\n      <td>1</td>\n    </tr>\n    <tr>\n      <th>3</th>\n      <td>60182</td>\n      <td>Female</td>\n      <td>49.0</td>\n      <td>0</td>\n      <td>0</td>\n      <td>Yes</td>\n      <td>Private</td>\n      <td>Urban</td>\n      <td>171.23</td>\n      <td>34.4</td>\n      <td>smokes</td>\n      <td>1</td>\n    </tr>\n    <tr>\n      <th>4</th>\n      <td>1665</td>\n      <td>Female</td>\n      <td>79.0</td>\n      <td>1</td>\n      <td>0</td>\n      <td>Yes</td>\n      <td>Self-employed</td>\n      <td>Rural</td>\n      <td>174.12</td>\n      <td>24.0</td>\n      <td>never smoked</td>\n      <td>1</td>\n    </tr>\n  </tbody>\n</table>\n</div>"
     },
     "execution_count": 3,
     "metadata": {},
     "output_type": "execute_result"
    }
   ],
   "source": [
    "df = pd.read_csv(\"./data.csv\")\n",
    "df.head()"
   ]
  },
  {
   "cell_type": "code",
   "execution_count": 4,
   "id": "2f62084d",
   "metadata": {},
   "outputs": [
    {
     "name": "stdout",
     "output_type": "stream",
     "text": [
      "(5110, 12)\n",
      "(4909, 12)\n"
     ]
    },
    {
     "data": {
      "text/plain": "      id  gender   age  hypertension  heart_disease ever_married  \\\n0   9046    Male  67.0             0              1          Yes   \n2  31112    Male  80.0             0              1          Yes   \n3  60182  Female  49.0             0              0          Yes   \n4   1665  Female  79.0             1              0          Yes   \n5  56669    Male  81.0             0              0          Yes   \n\n       work_type residence_type  avg_glucose_level   bmi   smoking_status  \\\n0        Private          Urban             228.69  36.6  formerly smoked   \n2        Private          Rural             105.92  32.5     never smoked   \n3        Private          Urban             171.23  34.4           smokes   \n4  Self-employed          Rural             174.12  24.0     never smoked   \n5        Private          Urban             186.21  29.0  formerly smoked   \n\n   stroke  \n0       1  \n2       1  \n3       1  \n4       1  \n5       1  ",
      "text/html": "<div>\n<style scoped>\n    .dataframe tbody tr th:only-of-type {\n        vertical-align: middle;\n    }\n\n    .dataframe tbody tr th {\n        vertical-align: top;\n    }\n\n    .dataframe thead th {\n        text-align: right;\n    }\n</style>\n<table border=\"1\" class=\"dataframe\">\n  <thead>\n    <tr style=\"text-align: right;\">\n      <th></th>\n      <th>id</th>\n      <th>gender</th>\n      <th>age</th>\n      <th>hypertension</th>\n      <th>heart_disease</th>\n      <th>ever_married</th>\n      <th>work_type</th>\n      <th>residence_type</th>\n      <th>avg_glucose_level</th>\n      <th>bmi</th>\n      <th>smoking_status</th>\n      <th>stroke</th>\n    </tr>\n  </thead>\n  <tbody>\n    <tr>\n      <th>0</th>\n      <td>9046</td>\n      <td>Male</td>\n      <td>67.0</td>\n      <td>0</td>\n      <td>1</td>\n      <td>Yes</td>\n      <td>Private</td>\n      <td>Urban</td>\n      <td>228.69</td>\n      <td>36.6</td>\n      <td>formerly smoked</td>\n      <td>1</td>\n    </tr>\n    <tr>\n      <th>2</th>\n      <td>31112</td>\n      <td>Male</td>\n      <td>80.0</td>\n      <td>0</td>\n      <td>1</td>\n      <td>Yes</td>\n      <td>Private</td>\n      <td>Rural</td>\n      <td>105.92</td>\n      <td>32.5</td>\n      <td>never smoked</td>\n      <td>1</td>\n    </tr>\n    <tr>\n      <th>3</th>\n      <td>60182</td>\n      <td>Female</td>\n      <td>49.0</td>\n      <td>0</td>\n      <td>0</td>\n      <td>Yes</td>\n      <td>Private</td>\n      <td>Urban</td>\n      <td>171.23</td>\n      <td>34.4</td>\n      <td>smokes</td>\n      <td>1</td>\n    </tr>\n    <tr>\n      <th>4</th>\n      <td>1665</td>\n      <td>Female</td>\n      <td>79.0</td>\n      <td>1</td>\n      <td>0</td>\n      <td>Yes</td>\n      <td>Self-employed</td>\n      <td>Rural</td>\n      <td>174.12</td>\n      <td>24.0</td>\n      <td>never smoked</td>\n      <td>1</td>\n    </tr>\n    <tr>\n      <th>5</th>\n      <td>56669</td>\n      <td>Male</td>\n      <td>81.0</td>\n      <td>0</td>\n      <td>0</td>\n      <td>Yes</td>\n      <td>Private</td>\n      <td>Urban</td>\n      <td>186.21</td>\n      <td>29.0</td>\n      <td>formerly smoked</td>\n      <td>1</td>\n    </tr>\n  </tbody>\n</table>\n</div>"
     },
     "execution_count": 4,
     "metadata": {},
     "output_type": "execute_result"
    }
   ],
   "source": [
    "# normalize column names\n",
    "\n",
    "df.columns = df.columns.str.lower()\n",
    "df.head()\n",
    "\n",
    "# drop lines with missing values\n",
    "print(df.shape)\n",
    "df = df.dropna()\n",
    "print(df.shape)\n",
    "df.head()"
   ]
  },
  {
   "cell_type": "markdown",
   "id": "9822b974",
   "metadata": {},
   "source": [
    "## Data pre-processing"
   ]
  },
  {
   "cell_type": "code",
   "execution_count": 5,
   "id": "acc5f72e",
   "metadata": {},
   "outputs": [],
   "source": [
    "# save raw data\n",
    "df_raw = df.copy()"
   ]
  },
  {
   "cell_type": "code",
   "execution_count": 6,
   "id": "e431ddd8",
   "metadata": {},
   "outputs": [
    {
     "data": {
      "text/plain": "      id  gender   age  hypertension  heart_disease ever_married  \\\n0   9046    Male  67.0             0              1          Yes   \n2  31112    Male  80.0             0              1          Yes   \n3  60182  Female  49.0             0              0          Yes   \n4   1665  Female  79.0             1              0          Yes   \n5  56669    Male  81.0             0              0          Yes   \n\n       work_type residence_type  avg_glucose_level   bmi   smoking_status  \\\n0        Private          Urban             228.69  36.6  formerly smoked   \n2        Private          Rural             105.92  32.5     never smoked   \n3        Private          Urban             171.23  34.4           smokes   \n4  Self-employed          Rural             174.12  24.0     never smoked   \n5        Private          Urban             186.21  29.0  formerly smoked   \n\n   stroke  \n0       1  \n2       1  \n3       1  \n4       1  \n5       1  ",
      "text/html": "<div>\n<style scoped>\n    .dataframe tbody tr th:only-of-type {\n        vertical-align: middle;\n    }\n\n    .dataframe tbody tr th {\n        vertical-align: top;\n    }\n\n    .dataframe thead th {\n        text-align: right;\n    }\n</style>\n<table border=\"1\" class=\"dataframe\">\n  <thead>\n    <tr style=\"text-align: right;\">\n      <th></th>\n      <th>id</th>\n      <th>gender</th>\n      <th>age</th>\n      <th>hypertension</th>\n      <th>heart_disease</th>\n      <th>ever_married</th>\n      <th>work_type</th>\n      <th>residence_type</th>\n      <th>avg_glucose_level</th>\n      <th>bmi</th>\n      <th>smoking_status</th>\n      <th>stroke</th>\n    </tr>\n  </thead>\n  <tbody>\n    <tr>\n      <th>0</th>\n      <td>9046</td>\n      <td>Male</td>\n      <td>67.0</td>\n      <td>0</td>\n      <td>1</td>\n      <td>Yes</td>\n      <td>Private</td>\n      <td>Urban</td>\n      <td>228.69</td>\n      <td>36.6</td>\n      <td>formerly smoked</td>\n      <td>1</td>\n    </tr>\n    <tr>\n      <th>2</th>\n      <td>31112</td>\n      <td>Male</td>\n      <td>80.0</td>\n      <td>0</td>\n      <td>1</td>\n      <td>Yes</td>\n      <td>Private</td>\n      <td>Rural</td>\n      <td>105.92</td>\n      <td>32.5</td>\n      <td>never smoked</td>\n      <td>1</td>\n    </tr>\n    <tr>\n      <th>3</th>\n      <td>60182</td>\n      <td>Female</td>\n      <td>49.0</td>\n      <td>0</td>\n      <td>0</td>\n      <td>Yes</td>\n      <td>Private</td>\n      <td>Urban</td>\n      <td>171.23</td>\n      <td>34.4</td>\n      <td>smokes</td>\n      <td>1</td>\n    </tr>\n    <tr>\n      <th>4</th>\n      <td>1665</td>\n      <td>Female</td>\n      <td>79.0</td>\n      <td>1</td>\n      <td>0</td>\n      <td>Yes</td>\n      <td>Self-employed</td>\n      <td>Rural</td>\n      <td>174.12</td>\n      <td>24.0</td>\n      <td>never smoked</td>\n      <td>1</td>\n    </tr>\n    <tr>\n      <th>5</th>\n      <td>56669</td>\n      <td>Male</td>\n      <td>81.0</td>\n      <td>0</td>\n      <td>0</td>\n      <td>Yes</td>\n      <td>Private</td>\n      <td>Urban</td>\n      <td>186.21</td>\n      <td>29.0</td>\n      <td>formerly smoked</td>\n      <td>1</td>\n    </tr>\n  </tbody>\n</table>\n</div>"
     },
     "execution_count": 6,
     "metadata": {},
     "output_type": "execute_result"
    }
   ],
   "source": [
    "# load raw data\n",
    "df = df_raw.copy()\n",
    "df.head()"
   ]
  },
  {
   "cell_type": "code",
   "execution_count": 7,
   "outputs": [
    {
     "data": {
      "text/plain": "0       had_stroke\n2       had_stroke\n3       had_stroke\n4       had_stroke\n5       had_stroke\n           ...    \n5104     no_stroke\n5106     no_stroke\n5107     no_stroke\n5108     no_stroke\n5109     no_stroke\nName: stroke, Length: 4909, dtype: object"
     },
     "execution_count": 7,
     "metadata": {},
     "output_type": "execute_result"
    }
   ],
   "source": [
    "# map stroke column to have meaningful column names after one-hot encoding\n",
    "df['stroke'] = df['stroke'].map({1: 'had_stroke', 0: 'no_stroke'})\n",
    "df['stroke']"
   ],
   "metadata": {
    "collapsed": false,
    "pycharm": {
     "name": "#%%\n"
    }
   }
  },
  {
   "cell_type": "code",
   "execution_count": 8,
   "outputs": [
    {
     "data": {
      "text/plain": "      id   age  hypertension  heart_disease ever_married residence_type  \\\n0   9046  67.0             0              1          Yes          Urban   \n2  31112  80.0             0              1          Yes          Rural   \n3  60182  49.0             0              0          Yes          Urban   \n4   1665  79.0             1              0          Yes          Rural   \n5  56669  81.0             0              0          Yes          Urban   \n\n   avg_glucose_level   bmi  Female  Male  ...  Never_worked  Private  \\\n0             228.69  36.6       0     1  ...             0        1   \n2             105.92  32.5       0     1  ...             0        1   \n3             171.23  34.4       1     0  ...             0        1   \n4             174.12  24.0       1     0  ...             0        0   \n5             186.21  29.0       0     1  ...             0        1   \n\n   Self-employed  children  Unknown  formerly smoked  never smoked  smokes  \\\n0              0         0        0                1             0       0   \n2              0         0        0                0             1       0   \n3              0         0        0                0             0       1   \n4              1         0        0                0             1       0   \n5              0         0        0                1             0       0   \n\n   had_stroke  no_stroke  \n0           1          0  \n2           1          0  \n3           1          0  \n4           1          0  \n5           1          0  \n\n[5 rows x 22 columns]",
      "text/html": "<div>\n<style scoped>\n    .dataframe tbody tr th:only-of-type {\n        vertical-align: middle;\n    }\n\n    .dataframe tbody tr th {\n        vertical-align: top;\n    }\n\n    .dataframe thead th {\n        text-align: right;\n    }\n</style>\n<table border=\"1\" class=\"dataframe\">\n  <thead>\n    <tr style=\"text-align: right;\">\n      <th></th>\n      <th>id</th>\n      <th>age</th>\n      <th>hypertension</th>\n      <th>heart_disease</th>\n      <th>ever_married</th>\n      <th>residence_type</th>\n      <th>avg_glucose_level</th>\n      <th>bmi</th>\n      <th>Female</th>\n      <th>Male</th>\n      <th>...</th>\n      <th>Never_worked</th>\n      <th>Private</th>\n      <th>Self-employed</th>\n      <th>children</th>\n      <th>Unknown</th>\n      <th>formerly smoked</th>\n      <th>never smoked</th>\n      <th>smokes</th>\n      <th>had_stroke</th>\n      <th>no_stroke</th>\n    </tr>\n  </thead>\n  <tbody>\n    <tr>\n      <th>0</th>\n      <td>9046</td>\n      <td>67.0</td>\n      <td>0</td>\n      <td>1</td>\n      <td>Yes</td>\n      <td>Urban</td>\n      <td>228.69</td>\n      <td>36.6</td>\n      <td>0</td>\n      <td>1</td>\n      <td>...</td>\n      <td>0</td>\n      <td>1</td>\n      <td>0</td>\n      <td>0</td>\n      <td>0</td>\n      <td>1</td>\n      <td>0</td>\n      <td>0</td>\n      <td>1</td>\n      <td>0</td>\n    </tr>\n    <tr>\n      <th>2</th>\n      <td>31112</td>\n      <td>80.0</td>\n      <td>0</td>\n      <td>1</td>\n      <td>Yes</td>\n      <td>Rural</td>\n      <td>105.92</td>\n      <td>32.5</td>\n      <td>0</td>\n      <td>1</td>\n      <td>...</td>\n      <td>0</td>\n      <td>1</td>\n      <td>0</td>\n      <td>0</td>\n      <td>0</td>\n      <td>0</td>\n      <td>1</td>\n      <td>0</td>\n      <td>1</td>\n      <td>0</td>\n    </tr>\n    <tr>\n      <th>3</th>\n      <td>60182</td>\n      <td>49.0</td>\n      <td>0</td>\n      <td>0</td>\n      <td>Yes</td>\n      <td>Urban</td>\n      <td>171.23</td>\n      <td>34.4</td>\n      <td>1</td>\n      <td>0</td>\n      <td>...</td>\n      <td>0</td>\n      <td>1</td>\n      <td>0</td>\n      <td>0</td>\n      <td>0</td>\n      <td>0</td>\n      <td>0</td>\n      <td>1</td>\n      <td>1</td>\n      <td>0</td>\n    </tr>\n    <tr>\n      <th>4</th>\n      <td>1665</td>\n      <td>79.0</td>\n      <td>1</td>\n      <td>0</td>\n      <td>Yes</td>\n      <td>Rural</td>\n      <td>174.12</td>\n      <td>24.0</td>\n      <td>1</td>\n      <td>0</td>\n      <td>...</td>\n      <td>0</td>\n      <td>0</td>\n      <td>1</td>\n      <td>0</td>\n      <td>0</td>\n      <td>0</td>\n      <td>1</td>\n      <td>0</td>\n      <td>1</td>\n      <td>0</td>\n    </tr>\n    <tr>\n      <th>5</th>\n      <td>56669</td>\n      <td>81.0</td>\n      <td>0</td>\n      <td>0</td>\n      <td>Yes</td>\n      <td>Urban</td>\n      <td>186.21</td>\n      <td>29.0</td>\n      <td>0</td>\n      <td>1</td>\n      <td>...</td>\n      <td>0</td>\n      <td>1</td>\n      <td>0</td>\n      <td>0</td>\n      <td>0</td>\n      <td>1</td>\n      <td>0</td>\n      <td>0</td>\n      <td>1</td>\n      <td>0</td>\n    </tr>\n  </tbody>\n</table>\n<p>5 rows × 22 columns</p>\n</div>"
     },
     "execution_count": 8,
     "metadata": {},
     "output_type": "execute_result"
    }
   ],
   "source": [
    "# one-hot encoding for categorical variables:\n",
    "categorical_cols = ['gender', 'work_type', 'smoking_status', 'stroke']\n",
    "\n",
    "for col in categorical_cols:\n",
    "    if col not in df.columns:\n",
    "        continue\n",
    "    dummies = pd.get_dummies(df[col])\n",
    "    df = pd.concat((df, dummies), axis=1)\n",
    "    df.drop(col, axis=1, inplace=True)\n",
    "\n",
    "df.head()"
   ],
   "metadata": {
    "collapsed": false,
    "pycharm": {
     "name": "#%%\n"
    }
   }
  },
  {
   "cell_type": "code",
   "execution_count": 9,
   "id": "c04b2581",
   "metadata": {},
   "outputs": [
    {
     "data": {
      "text/plain": "      id   age  hypertension  heart_disease  ever_married  residence_type  \\\n0   9046  67.0             0              1             1               1   \n2  31112  80.0             0              1             1               0   \n3  60182  49.0             0              0             1               1   \n4   1665  79.0             1              0             1               0   \n5  56669  81.0             0              0             1               1   \n\n   avg_glucose_level   bmi  Female  Male  ...  Never_worked  Private  \\\n0             228.69  36.6       0     1  ...             0        1   \n2             105.92  32.5       0     1  ...             0        1   \n3             171.23  34.4       1     0  ...             0        1   \n4             174.12  24.0       1     0  ...             0        0   \n5             186.21  29.0       0     1  ...             0        1   \n\n   Self-employed  children  Unknown  formerly smoked  never smoked  smokes  \\\n0              0         0        0                1             0       0   \n2              0         0        0                0             1       0   \n3              0         0        0                0             0       1   \n4              1         0        0                0             1       0   \n5              0         0        0                1             0       0   \n\n   had_stroke  no_stroke  \n0           1          0  \n2           1          0  \n3           1          0  \n4           1          0  \n5           1          0  \n\n[5 rows x 22 columns]",
      "text/html": "<div>\n<style scoped>\n    .dataframe tbody tr th:only-of-type {\n        vertical-align: middle;\n    }\n\n    .dataframe tbody tr th {\n        vertical-align: top;\n    }\n\n    .dataframe thead th {\n        text-align: right;\n    }\n</style>\n<table border=\"1\" class=\"dataframe\">\n  <thead>\n    <tr style=\"text-align: right;\">\n      <th></th>\n      <th>id</th>\n      <th>age</th>\n      <th>hypertension</th>\n      <th>heart_disease</th>\n      <th>ever_married</th>\n      <th>residence_type</th>\n      <th>avg_glucose_level</th>\n      <th>bmi</th>\n      <th>Female</th>\n      <th>Male</th>\n      <th>...</th>\n      <th>Never_worked</th>\n      <th>Private</th>\n      <th>Self-employed</th>\n      <th>children</th>\n      <th>Unknown</th>\n      <th>formerly smoked</th>\n      <th>never smoked</th>\n      <th>smokes</th>\n      <th>had_stroke</th>\n      <th>no_stroke</th>\n    </tr>\n  </thead>\n  <tbody>\n    <tr>\n      <th>0</th>\n      <td>9046</td>\n      <td>67.0</td>\n      <td>0</td>\n      <td>1</td>\n      <td>1</td>\n      <td>1</td>\n      <td>228.69</td>\n      <td>36.6</td>\n      <td>0</td>\n      <td>1</td>\n      <td>...</td>\n      <td>0</td>\n      <td>1</td>\n      <td>0</td>\n      <td>0</td>\n      <td>0</td>\n      <td>1</td>\n      <td>0</td>\n      <td>0</td>\n      <td>1</td>\n      <td>0</td>\n    </tr>\n    <tr>\n      <th>2</th>\n      <td>31112</td>\n      <td>80.0</td>\n      <td>0</td>\n      <td>1</td>\n      <td>1</td>\n      <td>0</td>\n      <td>105.92</td>\n      <td>32.5</td>\n      <td>0</td>\n      <td>1</td>\n      <td>...</td>\n      <td>0</td>\n      <td>1</td>\n      <td>0</td>\n      <td>0</td>\n      <td>0</td>\n      <td>0</td>\n      <td>1</td>\n      <td>0</td>\n      <td>1</td>\n      <td>0</td>\n    </tr>\n    <tr>\n      <th>3</th>\n      <td>60182</td>\n      <td>49.0</td>\n      <td>0</td>\n      <td>0</td>\n      <td>1</td>\n      <td>1</td>\n      <td>171.23</td>\n      <td>34.4</td>\n      <td>1</td>\n      <td>0</td>\n      <td>...</td>\n      <td>0</td>\n      <td>1</td>\n      <td>0</td>\n      <td>0</td>\n      <td>0</td>\n      <td>0</td>\n      <td>0</td>\n      <td>1</td>\n      <td>1</td>\n      <td>0</td>\n    </tr>\n    <tr>\n      <th>4</th>\n      <td>1665</td>\n      <td>79.0</td>\n      <td>1</td>\n      <td>0</td>\n      <td>1</td>\n      <td>0</td>\n      <td>174.12</td>\n      <td>24.0</td>\n      <td>1</td>\n      <td>0</td>\n      <td>...</td>\n      <td>0</td>\n      <td>0</td>\n      <td>1</td>\n      <td>0</td>\n      <td>0</td>\n      <td>0</td>\n      <td>1</td>\n      <td>0</td>\n      <td>1</td>\n      <td>0</td>\n    </tr>\n    <tr>\n      <th>5</th>\n      <td>56669</td>\n      <td>81.0</td>\n      <td>0</td>\n      <td>0</td>\n      <td>1</td>\n      <td>1</td>\n      <td>186.21</td>\n      <td>29.0</td>\n      <td>0</td>\n      <td>1</td>\n      <td>...</td>\n      <td>0</td>\n      <td>1</td>\n      <td>0</td>\n      <td>0</td>\n      <td>0</td>\n      <td>1</td>\n      <td>0</td>\n      <td>0</td>\n      <td>1</td>\n      <td>0</td>\n    </tr>\n  </tbody>\n</table>\n<p>5 rows × 22 columns</p>\n</div>"
     },
     "execution_count": 9,
     "metadata": {},
     "output_type": "execute_result"
    }
   ],
   "source": [
    "# binarize binary categorical data\n",
    "binary_col_mapping = {\n",
    "    'ever_married': {'No': 0, 'Yes': 1},\n",
    "    'residence_type': {'Rural': 0, 'Urban': 1}\n",
    "}\n",
    "\n",
    "for (col, mapping) in binary_col_mapping.items():\n",
    "    if col not in df.columns:\n",
    "        continue\n",
    "    df[col] = df[col].map(mapping)\n",
    "\n",
    "df.head()"
   ]
  },
  {
   "cell_type": "code",
   "execution_count": 10,
   "outputs": [
    {
     "name": "stdout",
     "output_type": "stream",
     "text": [
      "age: mean = 0.00; stdev = 1.00\n",
      "avg_glucose_level: mean = 0.00; stdev = 1.00\n",
      "bmi: mean = 0.00; stdev = 1.00\n"
     ]
    },
    {
     "data": {
      "text/plain": "      id       age  hypertension  heart_disease  ever_married  residence_type  \\\n0   9046  1.070029             0              1             1               1   \n2  31112  1.646395             0              1             1               0   \n3  60182  0.271984             0              0             1               1   \n4   1665  1.602059             1              0             1               0   \n5  56669  1.690731             0              0             1               1   \n\n   avg_glucose_level       bmi  Female  Male  ...  Never_worked  Private  \\\n0           2.777415  0.981245       0     1  ...             0        1   \n2           0.013840  0.459222       0     1  ...             0        1   \n3           1.483980  0.701135       1     0  ...             0        1   \n4           1.549035 -0.623020       1     0  ...             0        0   \n5           1.821183  0.013593       0     1  ...             0        1   \n\n   Self-employed  children  Unknown  formerly smoked  never smoked  smokes  \\\n0              0         0        0                1             0       0   \n2              0         0        0                0             1       0   \n3              0         0        0                0             0       1   \n4              1         0        0                0             1       0   \n5              0         0        0                1             0       0   \n\n   had_stroke  no_stroke  \n0           1          0  \n2           1          0  \n3           1          0  \n4           1          0  \n5           1          0  \n\n[5 rows x 22 columns]",
      "text/html": "<div>\n<style scoped>\n    .dataframe tbody tr th:only-of-type {\n        vertical-align: middle;\n    }\n\n    .dataframe tbody tr th {\n        vertical-align: top;\n    }\n\n    .dataframe thead th {\n        text-align: right;\n    }\n</style>\n<table border=\"1\" class=\"dataframe\">\n  <thead>\n    <tr style=\"text-align: right;\">\n      <th></th>\n      <th>id</th>\n      <th>age</th>\n      <th>hypertension</th>\n      <th>heart_disease</th>\n      <th>ever_married</th>\n      <th>residence_type</th>\n      <th>avg_glucose_level</th>\n      <th>bmi</th>\n      <th>Female</th>\n      <th>Male</th>\n      <th>...</th>\n      <th>Never_worked</th>\n      <th>Private</th>\n      <th>Self-employed</th>\n      <th>children</th>\n      <th>Unknown</th>\n      <th>formerly smoked</th>\n      <th>never smoked</th>\n      <th>smokes</th>\n      <th>had_stroke</th>\n      <th>no_stroke</th>\n    </tr>\n  </thead>\n  <tbody>\n    <tr>\n      <th>0</th>\n      <td>9046</td>\n      <td>1.070029</td>\n      <td>0</td>\n      <td>1</td>\n      <td>1</td>\n      <td>1</td>\n      <td>2.777415</td>\n      <td>0.981245</td>\n      <td>0</td>\n      <td>1</td>\n      <td>...</td>\n      <td>0</td>\n      <td>1</td>\n      <td>0</td>\n      <td>0</td>\n      <td>0</td>\n      <td>1</td>\n      <td>0</td>\n      <td>0</td>\n      <td>1</td>\n      <td>0</td>\n    </tr>\n    <tr>\n      <th>2</th>\n      <td>31112</td>\n      <td>1.646395</td>\n      <td>0</td>\n      <td>1</td>\n      <td>1</td>\n      <td>0</td>\n      <td>0.013840</td>\n      <td>0.459222</td>\n      <td>0</td>\n      <td>1</td>\n      <td>...</td>\n      <td>0</td>\n      <td>1</td>\n      <td>0</td>\n      <td>0</td>\n      <td>0</td>\n      <td>0</td>\n      <td>1</td>\n      <td>0</td>\n      <td>1</td>\n      <td>0</td>\n    </tr>\n    <tr>\n      <th>3</th>\n      <td>60182</td>\n      <td>0.271984</td>\n      <td>0</td>\n      <td>0</td>\n      <td>1</td>\n      <td>1</td>\n      <td>1.483980</td>\n      <td>0.701135</td>\n      <td>1</td>\n      <td>0</td>\n      <td>...</td>\n      <td>0</td>\n      <td>1</td>\n      <td>0</td>\n      <td>0</td>\n      <td>0</td>\n      <td>0</td>\n      <td>0</td>\n      <td>1</td>\n      <td>1</td>\n      <td>0</td>\n    </tr>\n    <tr>\n      <th>4</th>\n      <td>1665</td>\n      <td>1.602059</td>\n      <td>1</td>\n      <td>0</td>\n      <td>1</td>\n      <td>0</td>\n      <td>1.549035</td>\n      <td>-0.623020</td>\n      <td>1</td>\n      <td>0</td>\n      <td>...</td>\n      <td>0</td>\n      <td>0</td>\n      <td>1</td>\n      <td>0</td>\n      <td>0</td>\n      <td>0</td>\n      <td>1</td>\n      <td>0</td>\n      <td>1</td>\n      <td>0</td>\n    </tr>\n    <tr>\n      <th>5</th>\n      <td>56669</td>\n      <td>1.690731</td>\n      <td>0</td>\n      <td>0</td>\n      <td>1</td>\n      <td>1</td>\n      <td>1.821183</td>\n      <td>0.013593</td>\n      <td>0</td>\n      <td>1</td>\n      <td>...</td>\n      <td>0</td>\n      <td>1</td>\n      <td>0</td>\n      <td>0</td>\n      <td>0</td>\n      <td>1</td>\n      <td>0</td>\n      <td>0</td>\n      <td>1</td>\n      <td>0</td>\n    </tr>\n  </tbody>\n</table>\n<p>5 rows × 22 columns</p>\n</div>"
     },
     "execution_count": 10,
     "metadata": {},
     "output_type": "execute_result"
    }
   ],
   "source": [
    "# normalize non-binary columns\n",
    "non_binary_cols = ['age', 'avg_glucose_level', 'bmi']\n",
    "\n",
    "for col in non_binary_cols:\n",
    "    df[col] = (df[col] - df[col].mean()) / df[col].std()\n",
    "    print(f'{col}: mean = {df[col].mean():.2f}; stdev = {df[col].std():.2f}')\n",
    "\n",
    "df.head()"
   ],
   "metadata": {
    "collapsed": false,
    "pycharm": {
     "name": "#%%\n"
    }
   }
  },
  {
   "cell_type": "code",
   "execution_count": 11,
   "outputs": [
    {
     "name": "stdout",
     "output_type": "stream",
     "text": [
      "(3927, 19) (3927, 2)\n"
     ]
    }
   ],
   "source": [
    "# create training and testing set\n",
    "\n",
    "x_cols = [col for col in df.columns if col not in ['had_stroke', 'no_stroke', 'id']]\n",
    "x = df[x_cols]\n",
    "y = df[['had_stroke', 'no_stroke']]\n",
    "\n",
    "x_train, x_test, y_train, y_test = train_test_split(x, y, test_size=0.2, random_state=42)\n",
    "\n",
    "print(x_train.shape, y_train.shape)"
   ],
   "metadata": {
    "collapsed": false,
    "pycharm": {
     "name": "#%%\n"
    }
   }
  },
  {
   "cell_type": "markdown",
   "source": [
    "## Build & train model"
   ],
   "metadata": {
    "collapsed": false,
    "pycharm": {
     "name": "#%% md\n"
    }
   }
  },
  {
   "cell_type": "code",
   "execution_count": 33,
   "outputs": [
    {
     "name": "stdout",
     "output_type": "stream",
     "text": [
      "Model: \"sequential_3\"\n",
      "_________________________________________________________________\n",
      " Layer (type)                Output Shape              Param #   \n",
      "=================================================================\n",
      " dense_10 (Dense)            (None, 8)                 160       \n",
      "                                                                 \n",
      " dense_11 (Dense)            (None, 16)                144       \n",
      "                                                                 \n",
      " dense_12 (Dense)            (None, 32)                544       \n",
      "                                                                 \n",
      " dense_13 (Dense)            (None, 2)                 66        \n",
      "                                                                 \n",
      "=================================================================\n",
      "Total params: 914\n",
      "Trainable params: 914\n",
      "Non-trainable params: 0\n",
      "_________________________________________________________________\n"
     ]
    }
   ],
   "source": [
    "# build model\n",
    "\n",
    "model = Sequential()\n",
    "model.add(Dense(8, activation='relu', input_shape=(19,)))\n",
    "model.add(Dense(16, activation='relu'))\n",
    "model.add(Dense(32, activation='relu'))\n",
    "model.add(Dense(2, activation='softmax'))\n",
    "\n",
    "model.summary()"
   ],
   "metadata": {
    "collapsed": false,
    "pycharm": {
     "name": "#%%\n"
    }
   }
  },
  {
   "cell_type": "code",
   "execution_count": 34,
   "outputs": [
    {
     "data": {
      "text/plain": "3565    1\n898     1\n2707    1\n4198    1\n2746    1\n       ..\n4613    1\n511     1\n3247    1\n3946    1\n916     1\nName: had_stroke, Length: 3927, dtype: int64"
     },
     "execution_count": 34,
     "metadata": {},
     "output_type": "execute_result"
    }
   ],
   "source": [
    "sample_weight = y_train['had_stroke'] == 1\n",
    "sample_weight.map({False: 1, True: 50})"
   ],
   "metadata": {
    "collapsed": false,
    "pycharm": {
     "name": "#%%\n"
    }
   }
  },
  {
   "cell_type": "code",
   "execution_count": 35,
   "outputs": [
    {
     "name": "stdout",
     "output_type": "stream",
     "text": [
      "Epoch 1/10\n",
      "62/62 - 1s - loss: 0.0202 - accuracy: 0.0428 - recall_5: 0.0428 - 767ms/epoch - 12ms/step\n",
      "Epoch 2/10\n",
      "62/62 - 0s - loss: 0.0072 - accuracy: 0.0397 - recall_5: 0.0397 - 100ms/epoch - 2ms/step\n",
      "Epoch 3/10\n",
      "62/62 - 0s - loss: 9.9398e-04 - accuracy: 0.0397 - recall_5: 0.0397 - 97ms/epoch - 2ms/step\n",
      "Epoch 4/10\n",
      "62/62 - 0s - loss: 3.0261e-04 - accuracy: 0.0397 - recall_5: 0.0397 - 114ms/epoch - 2ms/step\n",
      "Epoch 5/10\n",
      "62/62 - 0s - loss: 1.4534e-04 - accuracy: 0.0397 - recall_5: 0.0397 - 102ms/epoch - 2ms/step\n",
      "Epoch 6/10\n",
      "62/62 - 0s - loss: 8.5347e-05 - accuracy: 0.0397 - recall_5: 0.0397 - 93ms/epoch - 1ms/step\n",
      "Epoch 7/10\n",
      "62/62 - 0s - loss: 5.5386e-05 - accuracy: 0.0397 - recall_5: 0.0397 - 87ms/epoch - 1ms/step\n",
      "Epoch 8/10\n",
      "62/62 - 0s - loss: 3.8519e-05 - accuracy: 0.0397 - recall_5: 0.0397 - 74ms/epoch - 1ms/step\n",
      "Epoch 9/10\n",
      "62/62 - 0s - loss: 2.8166e-05 - accuracy: 0.0397 - recall_5: 0.0397 - 83ms/epoch - 1ms/step\n",
      "Epoch 10/10\n",
      "62/62 - 0s - loss: 2.2228e-05 - accuracy: 0.0397 - recall_5: 0.0397 - 83ms/epoch - 1ms/step\n"
     ]
    },
    {
     "data": {
      "text/plain": "<keras.callbacks.History at 0x7fb33e891220>"
     },
     "execution_count": 35,
     "metadata": {},
     "output_type": "execute_result"
    }
   ],
   "source": [
    "model.compile(\n",
    "    optimizer='adam',  # Optimizer\n",
    "    # Loss function to minimize\n",
    "    loss='binary_crossentropy',\n",
    "    metrics=['accuracy', keras.metrics.Recall()]\n",
    ")\n",
    "\n",
    "model.fit(\n",
    "    x_train,\n",
    "    y_train,\n",
    "    epochs=10,\n",
    "    verbose=2,\n",
    "    batch_size=64,\n",
    "    sample_weight=sample_weight,\n",
    "\n",
    ")"
   ],
   "metadata": {
    "collapsed": false,
    "pycharm": {
     "name": "#%%\n"
    }
   }
  },
  {
   "cell_type": "markdown",
   "source": [
    "## Evaluate"
   ],
   "metadata": {
    "collapsed": false,
    "pycharm": {
     "name": "#%% md\n"
    }
   }
  },
  {
   "cell_type": "code",
   "execution_count": 14,
   "outputs": [
    {
     "name": "stdout",
     "output_type": "stream",
     "text": [
      "31/31 [==============================] - 0s 1ms/step - loss: 0.1738 - accuracy: 0.9460 - recall: 0.9460\n",
      "test loss = 0.17382635176181793\n",
      "test accuracy = 0.9460285305976868\n",
      "recall = 0.9460285305976868\n"
     ]
    }
   ],
   "source": [
    "# evaluate on test set\n",
    "loss, acc, recall = model.evaluate(x_test, y_test)\n",
    "print(f'test loss = {loss}\\ntest accuracy = {acc}\\nrecall = {recall}')"
   ],
   "metadata": {
    "collapsed": false,
    "pycharm": {
     "name": "#%%\n"
    }
   }
  },
  {
   "cell_type": "code",
   "execution_count": 15,
   "outputs": [
    {
     "name": "stdout",
     "output_type": "stream",
     "text": [
      "[[0.02684021 0.9731598 ]]\n",
      "had_stroke    0\n",
      "no_stroke     1\n",
      "Name: 4336, dtype: uint8\n"
     ]
    }
   ],
   "source": [
    "# evaluate on single instance\n",
    "test_individual = np.array(x_test.iloc[0])\n",
    "test_individual.shape = (1, 19, 1)\n",
    "print(model.predict(test_individual))\n",
    "print(y_test.iloc[0])"
   ],
   "metadata": {
    "collapsed": false,
    "pycharm": {
     "name": "#%%\n"
    }
   }
  },
  {
   "cell_type": "code",
   "execution_count": 16,
   "outputs": [
    {
     "data": {
      "text/plain": "[<tf.Variable 'dense/kernel:0' shape=(19, 8) dtype=float32, numpy=\n array([[ 0.3322972 , -0.1469666 ,  0.32511944,  0.37885192,  0.13180521,\n          0.58542264, -0.7736696 ,  0.3460944 ],\n        [-0.10244417,  0.16380171, -0.48052746, -0.37715727,  0.18645899,\n          0.3020158 , -0.00884684,  0.11090732],\n        [-0.2834323 ,  0.2820159 ,  0.11527443,  0.13907392, -0.20678733,\n          0.19135423, -0.3064339 ,  0.3636547 ],\n        [ 0.40273878,  0.37400237,  0.41999725, -0.25991192,  0.13538285,\n         -0.18778075,  0.04511276, -0.1537914 ],\n        [ 0.15130857, -0.29536396, -0.14237633,  0.4822192 , -0.0691272 ,\n          0.27116352,  0.46923774, -0.08016112],\n        [ 0.39966914,  0.29203045, -0.32293692,  0.4232454 , -0.0981659 ,\n          0.34865558,  0.02511504,  0.3698498 ],\n        [ 0.02579864,  0.18910855,  0.3251635 ,  0.23537078,  0.38890848,\n          0.05236178, -0.0584064 ,  0.01152524],\n        [-0.08439066, -0.44568756,  0.16868289, -0.17575818,  0.24132772,\n         -0.23981877,  0.10191379, -0.04105814],\n        [ 0.18566906,  0.05291057, -0.22764224,  0.22021793,  0.3631027 ,\n         -0.0047643 , -0.00342921,  0.2879317 ],\n        [-0.33463407, -0.35346302, -0.00126317, -0.10904896,  0.19108638,\n          0.25887606, -0.3788631 , -0.15556203],\n        [ 0.63099796, -0.40589222, -0.2912817 , -0.20738427,  0.02243807,\n          0.18095262, -0.05091885,  0.22719263],\n        [ 0.44216117, -0.00077693,  0.24165633,  0.2975754 , -0.40178618,\n         -0.38886255,  0.35303798, -0.44452068],\n        [-0.43476048,  0.07828034, -0.0865934 ,  0.05456475,  0.22428946,\n         -0.18570498,  0.33053377, -0.21682945],\n        [ 0.12324637, -0.03572984,  0.11951523, -0.15028319, -0.12478934,\n         -0.13527735,  0.09908652, -0.25412592],\n        [ 0.22450146, -0.07348557, -0.3488285 ,  0.3015934 , -0.23008765,\n          0.28326985, -0.06630971,  0.0446948 ],\n        [-0.3886437 , -0.29814118, -0.16801062, -0.03165444,  0.3510662 ,\n          0.19255865,  0.2717959 , -0.5363337 ],\n        [-0.33842036, -0.17616275, -0.21696685, -0.20173325,  0.3336854 ,\n          0.22672822,  0.20267586,  0.3841782 ],\n        [ 0.40780264,  0.50323933,  0.300812  ,  0.0824833 , -0.10768341,\n          0.44292134,  0.43678972, -0.04462745],\n        [-0.00084524,  0.12585872, -0.215454  , -0.15969501,  0.49477863,\n          0.44322643,  0.06940559, -0.43104813]], dtype=float32)>,\n <tf.Variable 'dense/bias:0' shape=(8,) dtype=float32, numpy=\n array([ 0.10965811,  0.03895021, -0.00981427,  0.01847198,  0.12734854,\n        -0.02817816,  0.10944141, -0.07377929], dtype=float32)>,\n <tf.Variable 'dense_1/kernel:0' shape=(8, 16) dtype=float32, numpy=\n array([[ 0.03968152,  0.02747131,  0.18600221,  0.1629257 , -0.44227016,\n         -0.23832443,  0.03903748,  0.26296198,  0.23319711,  0.4487943 ,\n         -0.30180857, -0.08527105, -0.35621262, -0.09709391,  0.5178764 ,\n         -0.14948905],\n        [ 0.31634536,  0.25021264,  0.18494824,  0.45808658,  0.23895784,\n          0.48000342, -0.2425426 , -0.5141594 ,  0.22024746, -0.21386375,\n          0.01402954,  0.3039397 ,  0.2929114 , -0.04415885, -0.22157775,\n          0.33175945],\n        [ 0.33428955, -0.1152461 ,  0.48453912,  0.11919111,  0.07331237,\n          0.14047454, -0.13911651,  0.26721004, -0.3710562 , -0.09150781,\n          0.17594819, -0.413094  ,  0.18446207, -0.01393882, -0.2836388 ,\n         -0.16929999],\n        [-0.15896249, -0.33208826, -0.4359023 ,  0.15506314, -0.0942025 ,\n         -0.08783576,  0.32843965,  0.15450038,  0.19835739,  0.05971337,\n          0.28874823, -0.48269406, -0.44656467,  0.48942745, -0.06792123,\n          0.3342365 ],\n        [ 0.10687002, -0.06252913,  0.36616796,  0.09366542,  0.48050773,\n          0.17288554, -0.21101505, -0.26749736, -0.44678238,  0.36261177,\n         -0.31673372, -0.31450137,  0.49692377,  0.39505884,  0.02495873,\n          0.41149247],\n        [-0.20166165, -0.11379007, -0.19711526,  0.42631343, -0.35758242,\n         -0.11964576,  0.4383555 , -0.05938379, -0.05598868, -0.2462846 ,\n          0.0659286 ,  0.33894682,  0.01942102, -0.40313655, -0.43779084,\n         -0.16402562],\n        [-0.27241597,  0.29884598, -0.3141408 ,  0.07936253,  0.06474432,\n         -0.266944  , -0.29155597, -0.14101979,  0.53176254,  0.01760874,\n          0.16877869,  0.16208093,  0.22081085, -0.29819477,  0.45694113,\n          0.45389155],\n        [-0.42542508,  0.22084942, -0.12595004,  0.29813   , -0.4348914 ,\n          0.1746295 ,  0.23242316,  0.21886115, -0.4912523 , -0.1719145 ,\n         -0.37537247, -0.49984655, -0.1708817 ,  0.21875077, -0.40903777,\n          0.13292663]], dtype=float32)>,\n <tf.Variable 'dense_1/bias:0' shape=(16,) dtype=float32, numpy=\n array([ 0.13546437,  0.23199418,  0.1323856 , -0.01414814,  0.20326349,\n         0.11814828, -0.01067933,  0.08943727,  0.19955432,  0.1457825 ,\n         0.25283638,  0.01664091,  0.10554048,  0.12805262,  0.20501155,\n         0.12014403], dtype=float32)>,\n <tf.Variable 'dense_2/kernel:0' shape=(16, 32) dtype=float32, numpy=\n array([[-0.29873273, -0.40280655,  0.10165456, -0.17686066, -0.35408866,\n          0.18136053,  0.16332272, -0.19554265, -0.08176778, -0.12977685,\n          0.06973075,  0.07665936,  0.21913198,  0.0807667 , -0.06521432,\n          0.17731981,  0.12429135,  0.31598437,  0.06716008, -0.05507043,\n          0.4095772 ,  0.03772773, -0.11116167,  0.1930506 , -0.12787618,\n          0.09462892,  0.06850315,  0.16557045,  0.2904497 , -0.36518306,\n         -0.11994886, -0.21349531],\n        [ 0.06988687, -0.08919409, -0.16269164,  0.04710713,  0.46369043,\n          0.03375952,  0.24100748, -0.27277467,  0.03060921, -0.21145833,\n         -0.00986996,  0.20186561,  0.48156247,  0.41276857, -0.05533271,\n          0.5181139 , -0.11621161,  0.11578964,  0.39181367, -0.05758544,\n          0.5788601 ,  0.6215008 ,  0.38173288,  0.52376264,  0.5810895 ,\n          0.5168282 ,  0.5624485 ,  0.19486856, -0.30989042, -0.28750446,\n         -0.02781382, -0.3025563 ],\n        [-0.02496378,  0.0893838 ,  0.04532052, -0.05780314,  0.3282863 ,\n          0.34037095,  0.00189341,  0.05430607,  0.01856482, -0.04667118,\n          0.03973533, -0.35226712, -0.12174659, -0.15252541, -0.04325882,\n          0.3714884 ,  0.08682783, -0.18847235, -0.22156672,  0.30916253,\n          0.40787914,  0.42149967,  0.1574757 ,  0.11507313,  0.18170188,\n          0.11240412, -0.22763363,  0.031032  , -0.3398773 , -0.39512736,\n         -0.01492882, -0.21532992],\n        [ 0.21392052,  0.04077781, -0.19838393,  0.37283066, -0.00901939,\n          0.26591206, -0.29580244,  0.23533396,  0.26983303, -0.07621629,\n          0.07786793,  0.26795518, -0.1338308 ,  0.04721965,  0.2570473 ,\n         -0.19857943, -0.25133836,  0.07069979,  0.06657719,  0.30738798,\n          0.26679048, -0.22361827, -0.17349504, -0.12819037,  0.08556134,\n         -0.26273817,  0.186807  , -0.05930709,  0.02809141, -0.07712019,\n          0.06402034,  0.2346114 ],\n        [-0.03987251,  0.09214709, -0.16116579,  0.40127403,  0.18252239,\n         -0.18611516, -0.29900223, -0.13610849, -0.342847  ,  0.3116792 ,\n         -0.06729244,  0.23716101,  0.35703117,  0.16377214,  0.2083079 ,\n          0.4085718 ,  0.2433935 , -0.02030978,  0.43732932, -0.17340674,\n         -0.08704241,  0.09607378,  0.22194503,  0.33221623,  0.31273755,\n          0.313923  ,  0.00417699,  0.29405773,  0.09790409, -0.05696766,\n          0.11292308,  0.17828025],\n        [ 0.26362637,  0.20039089, -0.29542035, -0.13105868,  0.13644956,\n          0.10396983,  0.12851653, -0.11217882, -0.03508929, -0.08145475,\n         -0.23021677,  0.10204834,  0.03717075,  0.28856552,  0.14628771,\n          0.2234478 , -0.28780267,  0.42078346, -0.09277117,  0.3713298 ,\n          0.30133444,  0.11157412,  0.22089036, -0.09722693, -0.13662389,\n          0.01922487, -0.20746686, -0.21896654,  0.18964793, -0.10765465,\n          0.36911127,  0.2867239 ],\n        [-0.30355027, -0.10849705,  0.12698354,  0.35328165, -0.01918325,\n         -0.24907896,  0.14638296, -0.18145107,  0.04591708, -0.31046116,\n          0.27549416,  0.22444598, -0.03021951, -0.1637013 , -0.38141802,\n          0.10308211,  0.30189654, -0.11959267,  0.0330416 ,  0.1629734 ,\n         -0.1160356 , -0.24243666, -0.0323473 ,  0.04150367,  0.20486519,\n          0.22170082, -0.22520886, -0.39153764,  0.02419326,  0.3277448 ,\n          0.20210172, -0.2987543 ],\n        [-0.2583716 ,  0.13618375,  0.04113917, -0.22126304,  0.38322   ,\n          0.33025122,  0.23914091,  0.12624834,  0.11684885,  0.1782477 ,\n          0.25499594,  0.17321017, -0.08057417,  0.12035836,  0.15188569,\n         -0.22208747, -0.12435257,  0.08393326,  0.3623527 ,  0.21219379,\n          0.24412292,  0.3245294 ,  0.3412493 ,  0.21449569,  0.30919608,\n         -0.16634749,  0.22787696,  0.26772428, -0.16550285, -0.11425038,\n          0.31932548, -0.05097451],\n        [-0.32076392, -0.24730176,  0.2797503 ,  0.10269117,  0.08373224,\n          0.23844875, -0.15829185, -0.34085378, -0.16702738,  0.23131132,\n         -0.09739894,  0.17558485,  0.3025333 , -0.0341966 ,  0.2200942 ,\n         -0.14517139, -0.2519625 , -0.23662826,  0.14228122, -0.35648033,\n          0.36358392,  0.15052812, -0.01623698,  0.48169515,  0.4238274 ,\n         -0.01972712,  0.30331275, -0.29817382, -0.33647102, -0.0679855 ,\n          0.30415195,  0.14337507],\n        [-0.17269997,  0.11628909,  0.03035287,  0.0116533 ,  0.11144368,\n          0.21015157, -0.06233737, -0.28663483, -0.31136078, -0.12538598,\n          0.06110887, -0.34788007,  0.19351797,  0.07191949, -0.37730417,\n          0.29343837,  0.14616892,  0.16436642,  0.43198088, -0.3173284 ,\n         -0.06748041,  0.40409827, -0.11456357, -0.18762608, -0.21090654,\n          0.38137525, -0.06225096,  0.21969229, -0.31255698, -0.28650242,\n          0.28444025,  0.24405491],\n        [ 0.2240775 ,  0.2751174 ,  0.08079868,  0.20051003,  0.5480936 ,\n          0.38744473, -0.31695202, -0.3838819 , -0.27731928, -0.29291308,\n         -0.06208785, -0.2198283 ,  0.37448353,  0.25554162,  0.06840417,\n          0.31294367, -0.15279703, -0.15315704,  0.07760279,  0.00375557,\n          0.61436117,  0.22698997,  0.32581043,  0.43087098,  0.313995  ,\n          0.3550165 ,  0.12260488,  0.00236033, -0.09521928, -0.3963101 ,\n          0.13956279,  0.06053701],\n        [ 0.29004636,  0.07503025,  0.08408456, -0.19873072,  0.05951784,\n          0.2260155 ,  0.12969428,  0.26193428,  0.14311573,  0.14973709,\n         -0.08494595,  0.27897727,  0.37778294,  0.20038064,  0.27482527,\n          0.200063  , -0.24561298, -0.1558979 ,  0.3553133 , -0.13289882,\n         -0.07133991,  0.32255355,  0.13115159,  0.02660071,  0.03003888,\n          0.6171114 ,  0.2998474 , -0.2974453 ,  0.2559283 ,  0.04158392,\n          0.08946975,  0.16096167],\n        [-0.24331172, -0.18919782, -0.23258474, -0.2502628 ,  0.12098107,\n         -0.05329696, -0.3086596 , -0.37417963,  0.15499419, -0.1795308 ,\n         -0.04150903, -0.16074026,  0.10484365,  0.44632193, -0.02729887,\n          0.44185138, -0.01889904,  0.25168473, -0.13489793, -0.11970649,\n          0.44349587,  0.30076173, -0.12717782, -0.05749827, -0.1552935 ,\n          0.00411327,  0.00311352, -0.04052573, -0.2607123 , -0.1720644 ,\n         -0.05272174, -0.3602696 ],\n        [-0.35603178,  0.20932238, -0.15367882, -0.34658298,  0.13804619,\n          0.3209113 , -0.26868093, -0.13959709,  0.09887014, -0.215401  ,\n         -0.35857287, -0.11506077, -0.03411039, -0.3021606 ,  0.13910708,\n          0.35153404, -0.04563313, -0.19185333,  0.0189191 ,  0.07705791,\n          0.20020671,  0.3970564 , -0.00328406,  0.1074235 , -0.22404054,\n         -0.15696956, -0.2135847 , -0.15414438, -0.33024895,  0.22522727,\n          0.12702204, -0.31417215],\n        [-0.3137057 ,  0.00513928, -0.1702016 ,  0.09739382,  0.37700167,\n          0.08002899, -0.31520453,  0.01744249, -0.32518503, -0.06108361,\n         -0.06269029, -0.24537478,  0.37656158,  0.480979  , -0.11471745,\n          0.09807888, -0.23814481,  0.08176437,  0.17099378,  0.13876168,\n          0.5791426 ,  0.11644489,  0.25874662,  0.46628022,  0.157447  ,\n          0.30617824,  0.18256116, -0.02453222, -0.27105558,  0.0743084 ,\n          0.02640879, -0.19189481],\n        [-0.25732794,  0.15122682,  0.0813913 ,  0.23947442,  0.32401887,\n         -0.07763339, -0.01730093, -0.08693786,  0.11232777, -0.21203637,\n          0.17464918, -0.21314059, -0.03802067,  0.02433502, -0.2213922 ,\n          0.19469836, -0.3031223 ,  0.1268674 , -0.23716095, -0.31231338,\n         -0.18135029,  0.33004084,  0.13351385,  0.07530319,  0.3013727 ,\n          0.18708669, -0.09391682, -0.10932915, -0.27242833,  0.29058805,\n          0.202008  ,  0.16493863]], dtype=float32)>,\n <tf.Variable 'dense_2/bias:0' shape=(32,) dtype=float32, numpy=\n array([-0.02820738, -0.05478267, -0.0481272 ,  0.10308246,  0.09676774,\n         0.11697277, -0.03303631, -0.03652282, -0.04929143, -0.01774077,\n        -0.05747046, -0.03721912,  0.23950545,  0.11879341, -0.04514483,\n         0.12039135, -0.0684973 , -0.05200402,  0.15462168, -0.04718664,\n         0.12664483,  0.12196886,  0.17995003,  0.16729116,  0.14350478,\n         0.1904698 ,  0.19834177, -0.04455674, -0.01868585, -0.03758393,\n         0.12809122, -0.03415673], dtype=float32)>,\n <tf.Variable 'dense_3/kernel:0' shape=(32, 2) dtype=float32, numpy=\n array([[ 0.24448599, -0.2849601 ],\n        [ 0.12858474, -0.26348862],\n        [ 0.03650198, -0.2154878 ],\n        [-0.0665308 ,  0.40394822],\n        [ 0.04900365,  0.51677805],\n        [-0.24252938,  0.40139204],\n        [ 0.32693282, -0.10130538],\n        [ 0.2107568 , -0.36890674],\n        [ 0.12574685, -0.36135784],\n        [-0.2658361 , -0.31924844],\n        [ 0.13147564, -0.00820286],\n        [ 0.33758876, -0.31337819],\n        [-0.55065346,  0.032916  ],\n        [-0.160082  ,  0.53291166],\n        [-0.04861095, -0.34818995],\n        [-0.19340172,  0.4054403 ],\n        [ 0.2708197 ,  0.2347609 ],\n        [-0.09242116, -0.19967167],\n        [-0.35025495,  0.34179208],\n        [-0.01865761, -0.28508818],\n        [-0.19481826,  0.15677829],\n        [-0.30734465,  0.3120062 ],\n        [-0.04214444,  0.4991162 ],\n        [-0.43704608,  0.62826014],\n        [-0.25699595,  0.08778341],\n        [-0.64530575, -0.13768707],\n        [-0.7243347 ,  0.5024278 ],\n        [ 0.10035726, -0.3830233 ],\n        [ 0.1773481 , -0.16696031],\n        [ 0.19713642, -0.36931086],\n        [-0.42533407, -0.00191425],\n        [ 0.16656862,  0.08342725]], dtype=float32)>,\n <tf.Variable 'dense_3/bias:0' shape=(2,) dtype=float32, numpy=array([-0.1028107 ,  0.08594755], dtype=float32)>]"
     },
     "execution_count": 16,
     "metadata": {},
     "output_type": "execute_result"
    }
   ],
   "source": [
    "model.weights"
   ],
   "metadata": {
    "collapsed": false,
    "pycharm": {
     "name": "#%%\n"
    }
   }
  },
  {
   "cell_type": "code",
   "execution_count": 25,
   "outputs": [
    {
     "name": "stdout",
     "output_type": "stream",
     "text": [
      "7/7 [==============================] - 0s 2ms/step - loss: 2.2574 - accuracy: 0.0000e+00 - recall_2: 0.0000e+00\n"
     ]
    },
    {
     "data": {
      "text/plain": "[2.2573814392089844, 0.0, 0.0]"
     },
     "execution_count": 25,
     "metadata": {},
     "output_type": "execute_result"
    }
   ],
   "source": [
    "# testing set with only stroke victims\n",
    "x_test_pos = df.loc[df['had_stroke'] == 1, x_cols]\n",
    "y_test_pos = y.loc[y['had_stroke'] == 1]\n",
    "y.head()\n",
    "\n",
    "model.evaluate(x_test_pos, y_test_pos)"
   ],
   "metadata": {
    "collapsed": false,
    "pycharm": {
     "name": "#%%\n"
    }
   }
  },
  {
   "cell_type": "markdown",
   "source": [
    "## Build linear model"
   ],
   "metadata": {
    "collapsed": false,
    "pycharm": {
     "name": "#%% md\n"
    }
   }
  },
  {
   "cell_type": "code",
   "execution_count": 17,
   "outputs": [
    {
     "name": "stdout",
     "output_type": "stream",
     "text": [
      "Model: \"sequential_1\"\n",
      "_________________________________________________________________\n",
      " Layer (type)                Output Shape              Param #   \n",
      "=================================================================\n",
      " dense_4 (Dense)             (None, 1)                 20        \n",
      "                                                                 \n",
      " dense_5 (Dense)             (None, 2)                 4         \n",
      "                                                                 \n",
      "=================================================================\n",
      "Total params: 24\n",
      "Trainable params: 24\n",
      "Non-trainable params: 0\n",
      "_________________________________________________________________\n",
      "Epoch 1/10\n",
      "62/62 - 1s - loss: 0.7502 - accuracy: 0.4848 - recall_1: 0.4848 - 780ms/epoch - 13ms/step\n",
      "Epoch 2/10\n",
      "62/62 - 0s - loss: 0.6376 - accuracy: 0.7087 - recall_1: 0.7087 - 117ms/epoch - 2ms/step\n",
      "Epoch 3/10\n",
      "62/62 - 0s - loss: 0.5475 - accuracy: 0.8322 - recall_1: 0.8322 - 82ms/epoch - 1ms/step\n",
      "Epoch 4/10\n",
      "62/62 - 0s - loss: 0.4621 - accuracy: 0.9055 - recall_1: 0.9055 - 68ms/epoch - 1ms/step\n",
      "Epoch 5/10\n",
      "62/62 - 0s - loss: 0.3817 - accuracy: 0.9368 - recall_1: 0.9368 - 94ms/epoch - 2ms/step\n",
      "Epoch 6/10\n",
      "62/62 - 0s - loss: 0.3144 - accuracy: 0.9524 - recall_1: 0.9524 - 86ms/epoch - 1ms/step\n",
      "Epoch 7/10\n",
      "62/62 - 0s - loss: 0.2636 - accuracy: 0.9572 - recall_1: 0.9572 - 63ms/epoch - 1ms/step\n",
      "Epoch 8/10\n",
      "62/62 - 0s - loss: 0.2280 - accuracy: 0.9598 - recall_1: 0.9598 - 63ms/epoch - 1ms/step\n",
      "Epoch 9/10\n",
      "62/62 - 0s - loss: 0.2038 - accuracy: 0.9603 - recall_1: 0.9603 - 56ms/epoch - 908us/step\n",
      "Epoch 10/10\n",
      "62/62 - 0s - loss: 0.1878 - accuracy: 0.9603 - recall_1: 0.9603 - 57ms/epoch - 926us/step\n"
     ]
    },
    {
     "data": {
      "text/plain": "<keras.callbacks.History at 0x7fb35c072580>"
     },
     "execution_count": 17,
     "metadata": {},
     "output_type": "execute_result"
    }
   ],
   "source": [
    "# build model\n",
    "\n",
    "model = Sequential()\n",
    "model.add(Dense(1, activation='linear', input_shape=(19,)))\n",
    "model.add(Dense(2, activation='softmax'))\n",
    "\n",
    "model.summary()\n",
    "\n",
    "model.compile(\n",
    "    optimizer='adam',  # Optimizer\n",
    "    # Loss function to minimize\n",
    "    loss='binary_crossentropy',\n",
    "    metrics=['accuracy', keras.metrics.Recall()]\n",
    ")\n",
    "\n",
    "model.fit(\n",
    "    x_train,\n",
    "    y_train,\n",
    "    epochs=10,\n",
    "    verbose=2,\n",
    "    batch_size=64\n",
    ")"
   ],
   "metadata": {
    "collapsed": false,
    "pycharm": {
     "name": "#%%\n"
    }
   }
  },
  {
   "cell_type": "code",
   "execution_count": 18,
   "outputs": [
    {
     "name": "stdout",
     "output_type": "stream",
     "text": [
      "31/31 [==============================] - 0s 827us/step - loss: 0.2171 - accuracy: 0.9450 - recall_1: 0.9450\n",
      "test loss = 0.21711164712905884\n",
      "test accuracy = 0.9450101852416992\n",
      "recall = 0.9450101852416992\n"
     ]
    }
   ],
   "source": [
    "# evaluate on test set\n",
    "loss, acc, recall = model.evaluate(x_test, y_test)\n",
    "print(f'test loss = {loss}\\ntest accuracy = {acc}\\nrecall = {recall}')"
   ],
   "metadata": {
    "collapsed": false,
    "pycharm": {
     "name": "#%%\n"
    }
   }
  }
 ],
 "metadata": {
  "kernelspec": {
   "display_name": "Python 3",
   "language": "python",
   "name": "python3"
  },
  "language_info": {
   "codemirror_mode": {
    "name": "ipython",
    "version": 3
   },
   "file_extension": ".py",
   "mimetype": "text/x-python",
   "name": "python",
   "nbconvert_exporter": "python",
   "pygments_lexer": "ipython3",
   "version": "3.6.13"
  }
 },
 "nbformat": 4,
 "nbformat_minor": 5
}